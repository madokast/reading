{
 "metadata": {
  "language_info": {
   "codemirror_mode": {
    "name": "ipython",
    "version": 3
   },
   "file_extension": ".py",
   "mimetype": "text/x-python",
   "name": "python",
   "nbconvert_exporter": "python",
   "pygments_lexer": "ipython3",
   "version": "3.8.0-final"
  },
  "orig_nbformat": 2,
  "kernelspec": {
   "name": "python3",
   "display_name": "Python 3.8.0 64-bit",
   "metadata": {
    "interpreter": {
     "hash": "240654965e339d128a9bbd5be5d7766dbc7de156d15b1c12ed426f21518e5300"
    }
   }
  }
 },
 "nbformat": 4,
 "nbformat_minor": 2,
 "cells": [
  {
   "source": [
    "# 二阶微分方程数值解法"
   ],
   "cell_type": "markdown",
   "metadata": {}
  },
  {
   "source": [
    "## 一阶龙格库塔法\n",
    "\n",
    "数值分析中，龙格－库塔法（Runge-Kutta methods）是用于非线性常微分方程的解的重要的一类隐式或显式迭代法。这些技术由数学家卡尔·龙格和马丁·威尔海姆·库塔于1900年左右发明。"
   ],
   "cell_type": "markdown",
   "metadata": {}
  },
  {
   "source": [
    "### 4 阶段龙格库塔法\r\n",
    "初值问题\n",
    "\n",
    "y' = f(t,y), y(t<sub>0</sub>) = y<sub>0</sub>\n",
    "\n",
    "则\n",
    "\n",
    "y<sub>n+1</sub> = y<sub>n</sub> + (h/6)(k<sub>1</sub> + 2k<sub>2</sub> + 2k<sub>3</sub> + k<sub>4</sub>)\n",
    "\n",
    "其中, h 是步长\n",
    "\n",
    "k<sub>1</sub> = f(t<sub>n</sub>, y<sub>n</sub>)\n",
    "\n",
    "k<sub>2</sub> = f(t<sub>n</sub> + (h/2), y<sub>n</sub> + (h/2)k<sub>1</sub>)\n",
    "\n",
    "k<sub>3</sub> = f(t<sub>n</sub> + (h/2), y<sub>n</sub> + (h/2)k<sub>2</sub>)\n",
    "\n",
    "k<sub>4</sub> = f(t<sub>n</sub> + h, y<sub>n</sub> + hk<sub>3</sub>)\r\n"
   ],
   "cell_type": "markdown",
   "metadata": {}
  },
  {
   "source": [
    "### python 实现龙格库塔法和普通方法"
   ],
   "cell_type": "markdown",
   "metadata": {}
  },
  {
   "cell_type": "code",
   "execution_count": 1,
   "metadata": {},
   "outputs": [],
   "source": [
    "# python 代码实现 4 阶段龙格库塔法\n",
    "def runge_kutta4(t0, y0, y_derived_function, footstep, foot_number):\n",
    "    for i in range(foot_number):\n",
    "        k1 = y_derived_function(t0, y0)\n",
    "        k2 = y_derived_function(t0+footstep/2, y0+footstep/2*k1)\n",
    "        k3 = y_derived_function(t0+footstep/2, y0+footstep/2*k2)\n",
    "        k4 = y_derived_function(t0+footstep, y0+footstep*k3)\n",
    "\n",
    "        t0 += footstep\n",
    "        y0 += (footstep/6)*(k1+2*k2+2*k3+k4)\n",
    "    \n",
    "    return y0"
   ]
  },
  {
   "cell_type": "code",
   "execution_count": 2,
   "metadata": {},
   "outputs": [],
   "source": [
    "# python 非龙格库塔法\n",
    "def no_runge_kutta4(t0, y0, y_derived_function, footstep, foot_number):\n",
    "    for i in range(foot_number):\n",
    "        k = y_derived_function(t0, y0)\n",
    "        t0 += footstep\n",
    "        y0 += footstep*k\n",
    "\n",
    "    return y0\n"
   ]
  },
  {
   "source": [
    "### 测试，令 y' = cos(t)\n",
    "\n",
    "则 y = sin(t)，有 y(0)=0, y(4.5*pi)=1\n",
    "\n",
    "下面分别使用两个算法，测试不同步长下的精度，因为 4 阶段龙格库塔法的计算复杂度比普通方法高 4 倍，所以按照 4 倍步长对等比较"
   ],
   "cell_type": "markdown",
   "metadata": {}
  },
  {
   "cell_type": "code",
   "execution_count": 4,
   "metadata": {},
   "outputs": [
    {
     "output_type": "stream",
     "name": "stdout",
     "text": [
      "非龙格库塔法\n",
      "步长0.0001, 实际步长0.000099999766157, 计算结果0.999949999275307, 误差0.000050000724693\n",
      "步长0.001, 实际步长0.000999941076613, 计算结果0.999499946135734, 误差0.000500053864266\n",
      "步长0.002, 实际步长0.001999882153226, 计算结果0.998999725630843, 误差0.001000274369157\n",
      "步长0.003, 实际步长0.002999611063262, 计算结果0.998499444661398, 误差0.001500555338602\n",
      "步长0.005, 实际步长0.004998998211158, 计算结果0.997498418393987, 误差0.002501581606013\n",
      "步长0.01, 实际步长0.009997996422315, 计算结果0.994992671780735, 误差0.005007328219265\n",
      "步长0.02, 实际步长0.019995992844631, 计算结果0.989968683378257, 误差0.010031316621743\n",
      "步长0.05, 实际步长0.049954653502311, 计算结果0.974814708982054, 误差0.025185291017946\n",
      "步长0.1, 实际步长0.099557513670099, 计算结果0.949395131808515, 误差0.050604868191485\n",
      "步长0.15, 实际步长0.148812283591095, 计算结果0.923747752081058, 误差0.076252247918942\n",
      "步长0.2, 实际步长0.199115027340198, 计算结果0.897136401607257, 误差0.102863598392743\n",
      "龙格库塔法\n",
      "步长0.0004, 实际步长0.000399999064628, 计算结果0.999999999999594, 误差0.000000000000406，比普通法高123050953.60519126\n",
      "步长0.004, 实际步长0.003999198568926, 计算结果1.000000000001067, 误差0.000000000001067，比普通法高468687283.4077003\n",
      "步长0.008, 实际步长0.007996135147712, 计算结果1.000000000001522, 误差0.000000000001522，比普通法高657160507.1045952\n",
      "步长0.012, 实际步长0.011990811654923, 计算结果1.000000000007534, 误差0.000000000007534，比普通法高199171838.01292366\n",
      "步长0.02, 实际步长0.019995992844631, 计算结果1.000000000055615, 误差0.000000000055615，比普通法高44980644.03423219\n",
      "步长0.04, 实际步长0.039935499833769, 计算结果1.000000000883291, 误差0.000000000883291，比普通法高5668948.013757712\n",
      "步长0.08, 实际步长0.079870999667537, 计算结果1.000000014133433, 误差0.000000014133433，比普通法高709757.9588402434\n",
      "步长0.2, 实际步长0.199115027340198, 计算结果1.000000546432295, 误差0.000000546432295，比普通法高46090.41460418549\n",
      "步长0.4, 实际步长0.392699081698724, 计算结果1.000008295523978, 误差0.000008295523978，比普通法高6100.261819340427\n",
      "步长0.6, 实际步长0.589048622548086, 计算结果1.000042239106937, 误差0.000042239106937，比普通法高1805.2523703175125\n",
      "步长0.8, 实际步长0.785398163397448, 计算结果1.000134584974200, 误差0.000134584974200，比普通法高764.3022484801819\n"
     ]
    }
   ],
   "source": [
    "import numpy as np\n",
    "import math\n",
    "y_derived_function = lambda t,y:np.sin(t)\n",
    "\n",
    "y0 = 0\n",
    "t0 = 0\n",
    "t1 = 4.5*np.pi\n",
    "\n",
    "# 非龙格库塔法\n",
    "print(\"非龙格库塔法\")\n",
    "errors = []\n",
    "for footstep in np.array([0.0001,0.001,0.002,0.003,0.005,0.01,0.02,0.05,0.1,0.15,0.2]):\n",
    "    number = math.ceil((t1-t0)/footstep)\n",
    "    true_footstep = (t1-t0)/number\n",
    "    y1 = no_runge_kutta4(t0,y0,y_derived_function,true_footstep,number)\n",
    "    print(f\"步长{footstep:.5}, 实际步长{true_footstep:.15f}, 计算结果{y1:.15f}, 误差{abs(y1-1):.15f}\")\n",
    "    errors.append(abs(y1-1))\n",
    "\n",
    "\n",
    "print(\"龙格库塔法\")\n",
    "for footstep in np.array([0.0001,0.001,0.002,0.003,0.005,0.01,0.02,0.05,0.1,0.15,0.2])*4:\n",
    "    number = math.ceil((t1-t0)/footstep)\n",
    "    true_footstep = (t1-t0)/number\n",
    "    y1 = runge_kutta4(t0,y0,y_derived_function,true_footstep,number)\n",
    "    print(f\"步长{footstep:.5}, 实际步长{true_footstep:.15f}, 计算结果{y1:.15f}, 误差{abs(y1-1):.15f}，比普通法高{errors[0]/abs(y1-1)}\")\n",
    "    del errors[0]"
   ]
  },
  {
   "source": [
    "## 二阶微分方程\n",
    "\n",
    "### 前述只是一阶微分方程，而束流跟踪涉及位置 p，速度 v = p'，加速器 a = v' = qvB/m 是二阶微分方程\n",
    "\n",
    "<div style=\"border:dotted grey;line-height:2em\">\n",
    "粒子跟踪是一个二阶微分方程，需要转为一阶矢量微分方程求解，方法如下：\n",
    "<br>\n",
    "位置  P = P(t)\n",
    "<br>\n",
    "速度  v = v(t) = P'(t)\n",
    "<br>\n",
    "加速度a = a(t) = v'(t)\n",
    "<br>\n",
    "又有  a = (q/m)v×B(P)\n",
    "<b>令 Y = [v, P]，则 Y' = [a, v] = [(q/m)v×B(P), v]，完成转换</b>\n",
    "</div>\n",
    "\n",
    "下面使用 4阶Runge-Kutta 和普通方法测试粒子跟踪结果"
   ],
   "cell_type": "markdown",
   "metadata": {}
  },
  {
   "source": [
    "普通方法 run_only_deprecated 已标记过时\n",
    "\n",
    "步长50.0mm，用时1.0392s，x=18.68333579632048mm\n",
    "\n",
    "步长40.0mm，用时1.2886s，x=16.718396635758715mm\n",
    "\n",
    "步长30.0mm，用时1.6456s，x=12.944754235887887mm\n",
    "\n",
    "步长20.0mm，用时2.5313s，x=10.516094094859755mm\n",
    "\n",
    "步长10.0mm，用时5.0635s，x=6.903473549019808mm\n",
    "\n",
    "步长8.0mm，用时6.3361s，x=6.40833122820699mm\n",
    "\n",
    "步长5.0mm，用时10.226s，x=5.254572300789692mm\n",
    "\n",
    "步长4.0mm，用时12.467s，x=4.871304534413266mm\n",
    "\n",
    "步长3.0mm，用时16.675s，x=4.51633782963419mm\n",
    "\n",
    "步长2.0mm，用时25.191s，x=4.028209382409073mm\n",
    "\n",
    "步长1.0mm，用时49.511s，x=3.6490740720260497mm\n",
    "\n",
    "步长0.5mm，用时103.1s，x=3.4479307130483554mm"
   ],
   "cell_type": "markdown",
   "metadata": {}
  },
  {
   "source": [
    "runge_kutta 法\n",
    "\n",
    "步长50.0mm，用时4.0911s，x=3.01348509788199mm\n",
    "\n",
    "步长40.0mm，用时5.0725s，x=3.410463066288976mm\n",
    "\n",
    "步长30.0mm，用时6.712s，x=3.609547552004571mm\n",
    "\n",
    "步长20.0mm，用时10.07s，x=3.210553313373026mm\n",
    "\n",
    "步长10.0mm，用时20.333s，x=3.2104325815440475mm\n",
    "\n",
    "步长8.0mm，用时25.522s，x=3.248756224357024mm\n",
    "\n",
    "步长5.0mm，用时40.254s，x=3.2104771768119704mm\n",
    "\n",
    "步长4.0mm，用时50.406s，x=3.2488727800066mm\n",
    "\n",
    "步长3.0mm，用时67.693s，x=3.189699305098131mm\n",
    "\n",
    "步长2.0mm，用时104.37s，x=3.229496502423295mm\n",
    "\n",
    "步长1.0mm，用时209.94s，x=3.2197514322991054mm\n",
    "\n",
    "步长0.5mm，用时425.25s，x=3.229786960064345mm"
   ],
   "cell_type": "markdown",
   "metadata": {}
  }
 ]
}