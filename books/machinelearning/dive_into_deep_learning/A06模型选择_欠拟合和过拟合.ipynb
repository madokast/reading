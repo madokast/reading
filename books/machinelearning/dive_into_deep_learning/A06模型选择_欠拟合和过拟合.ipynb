{
 "metadata": {
  "language_info": {
   "codemirror_mode": {
    "name": "ipython",
    "version": 3
   },
   "file_extension": ".py",
   "mimetype": "text/x-python",
   "name": "python",
   "nbconvert_exporter": "python",
   "pygments_lexer": "ipython3",
   "version": 3
  },
  "orig_nbformat": 2
 },
 "nbformat": 4,
 "nbformat_minor": 2,
 "cells": [
  {
   "source": [
    "# 模型选择、欠拟合和过拟合\n",
    "\n",
    "- 提出问题：当模型在训练数据集上更准确时，它在测试数据集上却不一定更准确\n"
   ],
   "cell_type": "markdown",
   "metadata": {}
  },
  {
   "source": [
    "## 训练误差和泛化误差\n",
    "\n",
    "- 训练误差：训练集上的误差\n",
    "\n",
    "- 泛化误差：非训练集数据上的误差，一般用测试误差近似\n"
   ],
   "cell_type": "markdown",
   "metadata": {}
  },
  {
   "source": [
    "## 模型选择\n",
    "\n",
    "- 验证数据集：用于调试模型的超参数\n",
    "\n",
    "- k 折交叉验证"
   ],
   "cell_type": "markdown",
   "metadata": {}
  }
 ]
}