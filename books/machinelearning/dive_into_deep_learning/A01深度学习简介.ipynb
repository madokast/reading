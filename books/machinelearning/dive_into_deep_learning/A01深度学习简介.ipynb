{
 "metadata": {
  "language_info": {
   "codemirror_mode": {
    "name": "ipython",
    "version": 3
   },
   "file_extension": ".py",
   "mimetype": "text/x-python",
   "name": "python",
   "nbconvert_exporter": "python",
   "pygments_lexer": "ipython3",
   "version": "3.8.0-final"
  },
  "orig_nbformat": 2,
  "kernelspec": {
   "name": "python3",
   "display_name": "Python 3.8.0 64-bit",
   "metadata": {
    "interpreter": {
     "hash": "240654965e339d128a9bbd5be5d7766dbc7de156d15b1c12ed426f21518e5300"
    }
   }
  }
 },
 "nbformat": 4,
 "nbformat_minor": 2,
 "cells": [
  {
   "source": [
    "# MXNet 入门"
   ],
   "cell_type": "markdown",
   "metadata": {}
  },
  {
   "cell_type": "code",
   "execution_count": 1,
   "metadata": {},
   "outputs": [
    {
     "output_type": "stream",
     "name": "stdout",
     "text": [
      "\n[ 0.  1.  2.  3.  4.  5.  6.  7.  8.  9. 10. 11.]\n<NDArray 12 @cpu(0)>\n"
     ]
    }
   ],
   "source": [
    "from mxnet import nd\n",
    "\n",
    "# 创建行向量\n",
    "x = nd.arange(12)\n",
    "print(x)"
   ]
  },
  {
   "cell_type": "code",
   "execution_count": 2,
   "metadata": {},
   "outputs": [
    {
     "output_type": "stream",
     "name": "stdout",
     "text": [
      "(12,)\n"
     ]
    }
   ],
   "source": [
    "# 数组形状\n",
    "print(x.shape)"
   ]
  },
  {
   "cell_type": "code",
   "execution_count": 3,
   "metadata": {},
   "outputs": [
    {
     "output_type": "stream",
     "name": "stdout",
     "text": [
      "12\n"
     ]
    }
   ],
   "source": [
    "# 元素总个数\n",
    "print(x.size)"
   ]
  },
  {
   "cell_type": "code",
   "execution_count": 4,
   "metadata": {},
   "outputs": [
    {
     "output_type": "stream",
     "name": "stdout",
     "text": [
      "\n[[ 0.  1.  2.  3.]\n [ 4.  5.  6.  7.]\n [ 8.  9. 10. 11.]]\n<NDArray 3x4 @cpu(0)>\n"
     ]
    }
   ],
   "source": [
    "# 修改形状\n",
    "print(x.reshape((3,4)))"
   ]
  },
  {
   "cell_type": "code",
   "execution_count": 6,
   "metadata": {},
   "outputs": [
    {
     "output_type": "stream",
     "name": "stdout",
     "text": [
      "\n[[ 0.  1.  2.  3.  4.  5.]\n [ 6.  7.  8.  9. 10. 11.]]\n<NDArray 2x6 @cpu(0)>\n\n[[ 0.  1.  2.]\n [ 3.  4.  5.]\n [ 6.  7.  8.]\n [ 9. 10. 11.]]\n<NDArray 4x3 @cpu(0)>\n"
     ]
    }
   ],
   "source": [
    "# 修改形状 使用-1 进行推导\n",
    "print(x.reshape((2,-1)))\n",
    "print(x.reshape((-1,3)))"
   ]
  },
  {
   "cell_type": "code",
   "execution_count": 7,
   "metadata": {},
   "outputs": [
    {
     "output_type": "stream",
     "name": "stdout",
     "text": [
      "\n[[[0. 0. 0. 0.]\n  [0. 0. 0. 0.]\n  [0. 0. 0. 0.]]\n\n [[0. 0. 0. 0.]\n  [0. 0. 0. 0.]\n  [0. 0. 0. 0.]]]\n<NDArray 2x3x4 @cpu(0)>\n"
     ]
    }
   ],
   "source": [
    "# 张量（多维数组）\n",
    "print(nd.zeros((2,3,4)))"
   ]
  },
  {
   "cell_type": "code",
   "execution_count": 8,
   "metadata": {},
   "outputs": [
    {
     "output_type": "stream",
     "name": "stdout",
     "text": [
      "\n[[ 1.1630785   0.4838046   0.29956347  0.15302546]\n [-1.1688148   1.558071   -0.5459446  -2.3556297 ]\n [ 0.54144025  2.6785064   1.2546344  -0.54877406]]\n<NDArray 3x4 @cpu(0)>\n"
     ]
    }
   ],
   "source": [
    "# 生成正态分布随机值\n",
    "print(nd.random.normal(0,1,shape=(3,4)))"
   ]
  },
  {
   "source": [
    "# MXNet 中 autograd 模块求梯度"
   ],
   "cell_type": "markdown",
   "metadata": {}
  },
  {
   "cell_type": "code",
   "execution_count": 10,
   "metadata": {},
   "outputs": [
    {
     "output_type": "stream",
     "name": "stdout",
     "text": [
      "x=\n[[0.]\n [1.]\n [2.]\n [3.]]\n<NDArray 4x1 @cpu(0)>\ny=\n[[42.]]\n<NDArray 1x1 @cpu(0)>\nb=None\nx.grad=\n[[ 0.]\n [ 6.]\n [12.]\n [18.]]\n<NDArray 4x1 @cpu(0)>\n"
     ]
    }
   ],
   "source": [
    "from mxnet import autograd, nd\n",
    "\n",
    "x = nd.arange(4).reshape((4, 1))\n",
    "print(f\"x={x}\")\n",
    "\n",
    "# 申请存储梯度所需要的内存\n",
    "x.attach_grad()\n",
    "\n",
    "# 为了减少计算和内存开销，默认条件下MXNet不会记录用于求梯度的计算。我们需要调用record函数来要求MXNet记录与求梯度有关的计算\n",
    "with autograd.record():\n",
    "    y = 3 * nd.dot(x.T, x)\n",
    "    print(f\"y={y}\")\n",
    "\n",
    "# 通过调用backward函数自动求梯度\n",
    "b = y.backward()\n",
    "print(f\"b={b}\")\n",
    "\n",
    "print(f\"x.grad={x.grad}\")"
   ]
  },
  {
   "source": [
    "# 训练模式和预测模式\n",
    "\n",
    "从上面可以看出，在调用record函数后，MXNet会记录并计算梯度。此外，默认情况下autograd还会将运行模式从预测模式转为训练模式。这可以通过调用is_training函数来查看。"
   ],
   "cell_type": "markdown",
   "metadata": {}
  },
  {
   "cell_type": "code",
   "execution_count": 11,
   "metadata": {},
   "outputs": [
    {
     "output_type": "stream",
     "name": "stdout",
     "text": [
      "False\nTrue\n"
     ]
    }
   ],
   "source": [
    "print(autograd.is_training())\n",
    "with autograd.record():\n",
    "    print(autograd.is_training())"
   ]
  },
  {
   "cell_type": "code",
   "execution_count": null,
   "metadata": {},
   "outputs": [],
   "source": []
  }
 ]
}