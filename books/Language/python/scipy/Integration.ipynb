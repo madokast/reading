{
 "metadata": {
  "language_info": {
   "codemirror_mode": {
    "name": "ipython",
    "version": 3
   },
   "file_extension": ".py",
   "mimetype": "text/x-python",
   "name": "python",
   "nbconvert_exporter": "python",
   "pygments_lexer": "ipython3",
   "version": "3.8.0-final"
  },
  "orig_nbformat": 2,
  "kernelspec": {
   "name": "python3",
   "display_name": "Python 3.8.0 64-bit",
   "metadata": {
    "interpreter": {
     "hash": "240654965e339d128a9bbd5be5d7766dbc7de156d15b1c12ed426f21518e5300"
    }
   }
  }
 },
 "nbformat": 4,
 "nbformat_minor": 2,
 "cells": [
  {
   "source": [
    "# 学习 scipy 积分/微分方程 解法 —— scipy.integration\n",
    "\n",
    "https://docs.scipy.org/doc/scipy-1.5.4/reference/tutorial/integrate.html\n",
    "\n",
    "## Ordinary differential equations (solve_ivp)\n",
    "\n",
    "- The function solve_ivp is available in SciPy for integrating a first-order vector differential equation\n",
    "\n",
    "solve_ivp 可用于求解一阶矢量微分方程：\n",
    "\n",
    "<img src=\"./img/A01-Yt.jpg\"></img>\n",
    "\n",
    "**y**是一个 N 维矢量，**f** 是一个 R^N 到 R^N 的映射。\n",
    "\n",
    "- A higher-order ordinary differential equation can always be reduced to a differential equation of this type by introducing intermediate derivatives into the **y** vector.\n",
    "\n",
    "高阶常微分方程，通过引入中间变量，总可以转为 **y** 矢量。对吗？下面举个例子（w 是 z 的函数）\n",
    "\n",
    "w'' - zw = 0\n",
    "\n",
    "初始条件为\n",
    "\n",
    "<img src=\"./img/A02-w0.jpg\"></img>\n",
    "\n",
    "在此初始条件下， w 是著名的 Airy 函数（艾里函数）\n",
    "\n",
    "做如下转换\n",
    "\n",
    "<img src=\"./img/A03-Yww.jpg\"></img>\n",
    "\n",
    "就可以转为一阶微分方程（注意没必要写成矩阵相乘形式，不要误会了）\n",
    "\n",
    "<img src=\"./img/A04-dyy.jpg\"></img>\n",
    "\n",
    "下面写代码实现"
   ],
   "cell_type": "markdown",
   "metadata": {}
  },
  {
   "cell_type": "code",
   "execution_count": 8,
   "metadata": {},
   "outputs": [
    {
     "output_type": "stream",
     "name": "stdout",
     "text": [
      "sol1.t: [0.         0.10097672 1.04643602 1.91060117 2.49872472 3.08684827\n 3.62692846 4.        ]\n"
     ]
    }
   ],
   "source": [
    "from scipy.integrate import solve_ivp\n",
    "from scipy.special import gamma, airy\n",
    "y1_0 = +1 / 3**(2/3) / gamma(2/3)\n",
    "y0_0 = -1 / 3**(1/3) / gamma(1/3)\n",
    "\n",
    "# 初值\n",
    "y0 = [y0_0, y1_0]\n",
    "\n",
    "# f 函数\n",
    "def func(t, y):\n",
    "    return [t*y[1],y[0]]\n",
    "\n",
    "# t 初值和终值\n",
    "t_span = [0, 4]\n",
    "\n",
    "# 求解\n",
    "sol1 = solve_ivp(func, t_span, y0)\n",
    "\n",
    "# 查看 t\n",
    "print(f\"sol1.t: {sol1.t}\")"
   ]
  },
  {
   "cell_type": "code",
   "execution_count": 6,
   "metadata": {},
   "outputs": [
    {
     "output_type": "stream",
     "name": "stdout",
     "text": [
      "sol1.y[1]: [0.35502805 0.328952   0.12801343 0.04008508 0.01601291 0.00623879\n 0.00356316 0.00405982]\n"
     ]
    }
   ],
   "source": [
    "# 查看  t 对应的 y[1] 就是 w(t)\n",
    "print(f\"sol1.y[1]: {sol1.y[1]}\")"
   ]
  },
  {
   "cell_type": "code",
   "execution_count": 9,
   "metadata": {},
   "outputs": [
    {
     "output_type": "stream",
     "name": "stdout",
     "text": [
      "airy(sol.t)[0]:  [0.35502805 0.328952   0.12804768 0.03995804 0.01575943 0.00562799\n 0.00201689 0.00095156]\n"
     ]
    }
   ],
   "source": [
    "# 查看精确解\n",
    "print(\"airy(sol.t)[0]:  {}\".format(airy(sol1.t)[0]))"
   ]
  },
  {
   "source": [
    "可见误差有点大，引入相对误差和绝对误差"
   ],
   "cell_type": "markdown",
   "metadata": {}
  },
  {
   "cell_type": "code",
   "execution_count": 10,
   "metadata": {},
   "outputs": [
    {
     "output_type": "stream",
     "name": "stdout",
     "text": [
      "sol2.y[1][::6]: [0.35502805 0.19145234 0.06368989 0.0205917  0.00554734 0.00106409]\nairy(sol2.t)[0][::6]: [0.35502805 0.19145234 0.06368989 0.0205917  0.00554733 0.00106406]\n"
     ]
    }
   ],
   "source": [
    "sol2 = solve_ivp(func, t_span, y0, rtol=1e-8, atol=1e-8)\n",
    "print(\"sol2.y[1][::6]: {}\".format(sol2.y[1][0::6]))\n",
    "print(\"airy(sol2.t)[0][::6]: {}\".format(airy(sol2.t)[0][::6]))"
   ]
  },
  {
   "source": [
    "返回感兴趣的 t 值"
   ],
   "cell_type": "markdown",
   "metadata": {}
  },
  {
   "cell_type": "code",
   "execution_count": 12,
   "metadata": {},
   "outputs": [
    {
     "output_type": "stream",
     "name": "stdout",
     "text": [
      "t=[0.  0.4 0.8 1.2 1.6 2.  2.4 2.8 3.2 3.6 4. ]\nw=[0.35502805 0.25490008 0.16989792 0.10609285 0.06253061 0.03505822\n 0.01877444 0.00978726 0.0052999  0.0035991  0.00405982]\n"
     ]
    }
   ],
   "source": [
    "import numpy as np\n",
    "t = np.linspace(0, 4, 11)\n",
    "sol3 = solve_ivp(func, t_span, y0, t_eval=t)\n",
    "\n",
    "print(f\"t={sol3.t}\")\n",
    "print(f\"w={sol3.y[1]}\")"
   ]
  }
 ]
}